{
 "cells": [
  {
   "cell_type": "code",
   "execution_count": 75,
   "id": "3a42ae13",
   "metadata": {},
   "outputs": [
    {
     "name": "stdout",
     "output_type": "stream",
     "text": [
      "Hello World\n",
      "H\n",
      "llo\n",
      "llo World\n",
      "Hello WorldHello World \n",
      "Hello WorldTest\n",
      "<class 'str'>\n"
     ]
    }
   ],
   "source": [
    "str=\"Hello World\"\n",
    "print(str)\n",
    "print(str[0])\n",
    "print(str[2:5])\n",
    "print(str[2:])\n",
    "print(str*2 + \" \")\n",
    "print(str+\"Test\")\n",
    "print(type(str))\n"
   ]
  },
  {
   "cell_type": "code",
   "execution_count": 74,
   "id": "45171ac7",
   "metadata": {},
   "outputs": [
    {
     "name": "stdout",
     "output_type": "stream",
     "text": [
      "DEVANSHI\n",
      "devanshi\n"
     ]
    }
   ],
   "source": [
    "str=\"Devanshi\"\n",
    "print(str.upper())\n",
    "print(str.lower())"
   ]
  },
  {
   "cell_type": "code",
   "execution_count": 12,
   "id": "831aef07",
   "metadata": {},
   "outputs": [
    {
     "name": "stdout",
     "output_type": "stream",
     "text": [
      "devanshi\n",
      "i\n",
      "h\n",
      "s\n",
      "n\n",
      "a\n",
      "v\n",
      "e\n",
      "d\n"
     ]
    }
   ],
   "source": [
    "str=input()\n",
    "m=len(str)\n",
    "for i in range(m-1,-1,-1):\n",
    "    print(str[i])"
   ]
  },
  {
   "cell_type": "code",
   "execution_count": 73,
   "id": "56aef966",
   "metadata": {},
   "outputs": [
    {
     "name": "stdout",
     "output_type": "stream",
     "text": [
      "23\n",
      "25\n"
     ]
    }
   ],
   "source": [
    "n=int(input())\n",
    "if(n<10):\n",
    "    print(n)\n",
    "elif(n>20):\n",
    "    print(n+2)\n",
    "else:\n",
    "    print(n+5)"
   ]
  },
  {
   "cell_type": "code",
   "execution_count": 41,
   "id": "b26d535a",
   "metadata": {},
   "outputs": [
    {
     "name": "stdout",
     "output_type": "stream",
     "text": [
      "[1, 34]\n",
      "['devanshi']\n",
      "[2.0]\n",
      "[True]\n"
     ]
    }
   ],
   "source": [
    "list=[1,\"devanshi\",2.0,34,True]\n",
    "list1=[]\n",
    "list2=[]\n",
    "list3=[]\n",
    "list4=[]\n",
    "n=len(list)\n",
    "for i in range(0,n,+1):\n",
    "    if(type(list[i])==int):\n",
    "        list1.append(list[i])\n",
    "    elif(type(list[i])==type(\"dev\")):\n",
    "        list2.append(list[i])\n",
    "    elif(type(list[i])==float):\n",
    "        list3.append(list[i])\n",
    "    else:\n",
    "        list4.append(list[i])\n",
    "print(list1)\n",
    "print(list2)\n",
    "print(list3)\n",
    "print(list4)\n",
    "        "
   ]
  },
  {
   "cell_type": "code",
   "execution_count": 64,
   "id": "fc5e2326",
   "metadata": {},
   "outputs": [
    {
     "name": "stdout",
     "output_type": "stream",
     "text": [
      "5\n",
      "6\n",
      "7\n",
      "8\n",
      "9\n"
     ]
    }
   ],
   "source": [
    "n=5\n",
    "while(n<10):\n",
    "    print(n)\n",
    "    n+=1"
   ]
  },
  {
   "cell_type": "code",
   "execution_count": 70,
   "id": "03a8f091",
   "metadata": {},
   "outputs": [
    {
     "name": "stdout",
     "output_type": "stream",
     "text": [
      "1\n",
      "2\n"
     ]
    }
   ],
   "source": [
    "list=[1,2,3,5,1,2]\n",
    "n=len(list)\n",
    "for i in range(0,n,+1):\n",
    "    for j in range(i+1,n,+1):\n",
    "        if(list[i]==list[j]):\n",
    "            print(list[i])\n",
    "    "
   ]
  },
  {
   "cell_type": "code",
   "execution_count": 79,
   "id": "b98b25a9",
   "metadata": {},
   "outputs": [
    {
     "name": "stdout",
     "output_type": "stream",
     "text": [
      "values inside the fun: [12, 23, 34, 45, [1, 2, 3]]\n",
      "values outside the func: [12, 23, 34, 45, [1, 2, 3]]\n"
     ]
    }
   ],
   "source": [
    "def change(list):\n",
    "    list.append([1,2,3])\n",
    "    print(\"values inside the fun:\",list)\n",
    "    return\n",
    "\n",
    "list=[12,23,34,45]\n",
    "change(list)\n",
    "print(\"values outside the func:\",list)\n",
    "\n"
   ]
  },
  {
   "cell_type": "code",
   "execution_count": 86,
   "id": "fc920708",
   "metadata": {},
   "outputs": [
    {
     "name": "stdout",
     "output_type": "stream",
     "text": [
      "4\n",
      "5\n",
      "sum: 9\n"
     ]
    }
   ],
   "source": [
    "def sum(a,b):\n",
    "    c=a+b\n",
    "    print(\"sum:\",c)\n",
    "    \n",
    "a=int(input())\n",
    "b=int(input())\n",
    "sum(a,b)"
   ]
  },
  {
   "cell_type": "code",
   "execution_count": 102,
   "id": "ecb941f5",
   "metadata": {},
   "outputs": [
    {
     "name": "stdout",
     "output_type": "stream",
     "text": [
      "10 is not a prime number\n",
      "11 is a prime number\n",
      "12 is not a prime number\n",
      "13 is a prime number\n",
      "14 is not a prime number\n",
      "15 is a prime number\n",
      "16 is not a prime number\n",
      "17 is a prime number\n",
      "18 is not a prime number\n",
      "19 is a prime number\n"
     ]
    }
   ],
   "source": [
    "for n in range(10,20):\n",
    "    for i in range(2,n):\n",
    "        if(n%i==0):\n",
    "            print(n,\"is not a prime number\")\n",
    "            break\n",
    "        else:\n",
    "            print(n,\"is a prime number\")\n",
    "            break\n",
    "        "
   ]
  },
  {
   "cell_type": "code",
   "execution_count": null,
   "id": "4883d307",
   "metadata": {},
   "outputs": [],
   "source": [
    "def prime(n):\n",
    "    if(n==2):\n",
    "        print(\"2 is a prime number\")\n",
    "    for i in range(2,n):\n",
    "        if(n%i==0):\n",
    "            print(n,\"is not a prime number\")\n",
    "            break\n",
    "        else:\n",
    "            print(n,\"is a prime number\")\n",
    "            break\n",
    "            \n",
    "n=int(input())\n",
    "prime(n)"
   ]
  },
  {
   "cell_type": "code",
   "execution_count": null,
   "id": "bc8d0e32",
   "metadata": {},
   "outputs": [],
   "source": []
  }
 ],
 "metadata": {
  "kernelspec": {
   "display_name": "Python 3 (ipykernel)",
   "language": "python",
   "name": "python3"
  },
  "language_info": {
   "codemirror_mode": {
    "name": "ipython",
    "version": 3
   },
   "file_extension": ".py",
   "mimetype": "text/x-python",
   "name": "python",
   "nbconvert_exporter": "python",
   "pygments_lexer": "ipython3",
   "version": "3.9.13"
  }
 },
 "nbformat": 4,
 "nbformat_minor": 5
}
