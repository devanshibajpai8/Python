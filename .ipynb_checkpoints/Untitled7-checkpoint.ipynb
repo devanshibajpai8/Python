{
 "cells": [
  {
   "cell_type": "code",
   "execution_count": 12,
   "id": "76689328",
   "metadata": {},
   "outputs": [],
   "source": [
    "import cv2 as cv\n",
    "import matplotlib.pyplot as plt\n",
    "import numpy as np\n",
    "img=cv.imread('C:/Users/KIIT/Desktop/img.jpg',0)\n",
    "equ = cv.equalizeHist(img)\n",
    "cv.imshow('equ',equ)\n",
    "cv.waitKey(0)\n",
    "cv.destroyAllWindows()"
   ]
  },
  {
   "cell_type": "code",
   "execution_count": 16,
   "id": "5a633f23",
   "metadata": {},
   "outputs": [],
   "source": [
    "import numpy as np\n",
    "kernel=np.array([[0.0,-1.0,0.0],\n",
    "                [-1.0,4.0,-1.0],\n",
    "                [0.0,-1.0,0.0]])\n",
    "img_rst=cv.filter2D(img,-1,kernel)\n",
    "cv.imshow(\"Resized\",img_rst)\n",
    "cv.waitKey(0)\n",
    "cv.destroyAllWindows()"
   ]
  },
  {
   "cell_type": "code",
   "execution_count": 28,
   "id": "893ccc0a",
   "metadata": {},
   "outputs": [
    {
     "ename": "ValueError",
     "evalue": "operands could not be broadcast together with shapes (3,3) (5,5) ",
     "output_type": "error",
     "traceback": [
      "\u001b[1;31m---------------------------------------------------------------------------\u001b[0m",
      "\u001b[1;31mValueError\u001b[0m                                Traceback (most recent call last)",
      "\u001b[1;32m~\\AppData\\Local\\Temp\\ipykernel_21336\\1042818029.py\u001b[0m in \u001b[0;36m<module>\u001b[1;34m\u001b[0m\n\u001b[0;32m     65\u001b[0m \u001b[1;33m\u001b[0m\u001b[0m\n\u001b[0;32m     66\u001b[0m \u001b[1;32mfor\u001b[0m \u001b[0mi\u001b[0m \u001b[1;32min\u001b[0m \u001b[0mkernels1\u001b[0m\u001b[1;33m:\u001b[0m\u001b[1;33m\u001b[0m\u001b[1;33m\u001b[0m\u001b[0m\n\u001b[1;32m---> 67\u001b[1;33m     \u001b[0mimg_rst\u001b[0m\u001b[1;33m=\u001b[0m\u001b[0mcv\u001b[0m\u001b[1;33m.\u001b[0m\u001b[0mfilter2D\u001b[0m\u001b[1;33m(\u001b[0m\u001b[0mimg1\u001b[0m\u001b[1;33m,\u001b[0m\u001b[1;33m-\u001b[0m\u001b[1;36m1\u001b[0m\u001b[1;33m,\u001b[0m\u001b[0mkernel\u001b[0m\u001b[1;33m+\u001b[0m\u001b[0mi\u001b[0m\u001b[1;33m)\u001b[0m\u001b[1;33m\u001b[0m\u001b[1;33m\u001b[0m\u001b[0m\n\u001b[0m\u001b[0;32m     68\u001b[0m     \u001b[0mcv\u001b[0m\u001b[1;33m.\u001b[0m\u001b[0mimshow\u001b[0m\u001b[1;33m(\u001b[0m\u001b[1;34m\"Resized\"\u001b[0m\u001b[1;33m,\u001b[0m\u001b[0mimg_rst\u001b[0m\u001b[1;33m)\u001b[0m\u001b[1;33m\u001b[0m\u001b[1;33m\u001b[0m\u001b[0m\n\u001b[0;32m     69\u001b[0m     \u001b[0mcv\u001b[0m\u001b[1;33m.\u001b[0m\u001b[0mwaitKey\u001b[0m\u001b[1;33m(\u001b[0m\u001b[1;36m0\u001b[0m\u001b[1;33m)\u001b[0m\u001b[1;33m\u001b[0m\u001b[1;33m\u001b[0m\u001b[0m\n",
      "\u001b[1;31mValueError\u001b[0m: operands could not be broadcast together with shapes (3,3) (5,5) "
     ]
    }
   ],
   "source": [
    "import cv2 as cv\n",
    "import matplotlib.pyplot as plt\n",
    "import numpy as np\n",
    "img1=cv.imread('C:/Users/KIIT/Desktop/img.jpg',1)\n",
    "kernel1 = np.array([[0, -1, 0],\n",
    "                    [-1, 4, -1],\n",
    "                    [0, -1, 0]])\n",
    "\n",
    "kernel2 = np.array([[-1, -1, -1],\n",
    "                    [-1, 8, -1],\n",
    "                    [-1, -1, -1]])\n",
    "\n",
    "kernel3 = np.array([[-1, -2, -1],\n",
    "                    [0, 0, 0],\n",
    "                    [1, 2, 1]])\n",
    "\n",
    "kernel4 = np.array([[1, 2, 1],\n",
    "                    [0, 0, 0],\n",
    "                    [-1, -2, -1]])\n",
    "\n",
    "kernel5 = np.array([[1, 0, -1],\n",
    "                    [2, 0, -2],\n",
    "                    [1, 0, -1]])\n",
    "\n",
    "kernel6 = np.array([[-1, 0, 1],\n",
    "                    [-2, 0, 2],\n",
    "                    [-1, 0, 1]])\n",
    "\n",
    "kernel7 = np.array([[0, -1, 0],\n",
    "                    [-1, 5, -1],\n",
    "                    [0, -1, 0]])\n",
    "\n",
    "kernel8 =  np.array([[-2, -1, 0],\n",
    "                     [-1,  1, 1],\n",
    "                     [ 0,  1, 2]])\n",
    "\n",
    "kernel9 = (1 / 9.0) * np.array([[1, 1, 1],\n",
    "                                [1, 1, 1],\n",
    "                                [1, 1, 1]])\n",
    "\n",
    "kernel10 = (1 / 16.0) * np.array([[1, 2, 1],\n",
    "                                  [2, 4, 2],\n",
    "                                  [1, 2, 1]])\n",
    "\n",
    "kernel11 = (1 / 256.0) * np.array([[1, 4, 6, 4, 1],\n",
    "                                   [4, 16, 24, 16, 4],\n",
    "                                   [6, 24, 36, 24, 6],\n",
    "                                   [4, 16, 24, 16, 4],\n",
    "                                   [1, 4, 6, 4, 1]])\n",
    "\n",
    "kernel12 = -(1 / 256.0) * np.array([[1, 4, 6, 4, 1],\n",
    "                                   [4, 16, 24, 16, 4],\n",
    "                                   [6, 24, -476, 24, 6],\n",
    "                                   [4, 16, 24, 16, 4],\n",
    "                                   [1, 4, 6, 4, 1]])\n",
    "\n",
    "kernels = [kernel1,kernel2,kernel3,kernel4,kernel5,kernel6,kernel7, kernel8, kernel9, kernel10]\n",
    "kernels1=[kernel11, kernel12]\n",
    "\n",
    "for i in kernels:\n",
    "    img_rst=cv.filter2D(img1,-1,kernel+i)\n",
    "    cv.imshow(\"Resized\",img_rst)\n",
    "    cv.waitKey(0)\n",
    "    cv.destroyAllWindows()\n",
    "    \n",
    "for i in kernels1:\n",
    "    img_rst=cv.filter2D(img1,-1,kernel+i)\n",
    "    cv.imshow(\"Resized\",img_rst)\n",
    "    cv.waitKey(0)\n",
    "    cv.destroyAllWindows()\n",
    "    \n",
    "    "
   ]
  }
 ],
 "metadata": {
  "kernelspec": {
   "display_name": "Python 3 (ipykernel)",
   "language": "python",
   "name": "python3"
  },
  "language_info": {
   "codemirror_mode": {
    "name": "ipython",
    "version": 3
   },
   "file_extension": ".py",
   "mimetype": "text/x-python",
   "name": "python",
   "nbconvert_exporter": "python",
   "pygments_lexer": "ipython3",
   "version": "3.9.13"
  }
 },
 "nbformat": 4,
 "nbformat_minor": 5
}
