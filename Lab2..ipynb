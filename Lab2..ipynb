{
 "cells": [
  {
   "cell_type": "code",
   "execution_count": 5,
   "id": "bd42a998",
   "metadata": {},
   "outputs": [
    {
     "name": "stdout",
     "output_type": "stream",
     "text": [
      "4\n",
      "4 is not a prime number\n"
     ]
    }
   ],
   "source": [
    "def prime(n):\n",
    "    if(n==2):\n",
    "        print(\"2 is a prime number\")\n",
    "    for i in range(2,n):\n",
    "        if(n%i==0):\n",
    "            print(n,\"is not a prime number\")\n",
    "            break\n",
    "        else:\n",
    "            print(n,\"is a prime number\")\n",
    "            break\n",
    "            \n",
    "n=int(input())\n",
    "prime(n)"
   ]
  },
  {
   "cell_type": "code",
   "execution_count": 19,
   "id": "b2b4822d",
   "metadata": {},
   "outputs": [
    {
     "name": "stdout",
     "output_type": "stream",
     "text": [
      "4\n",
      "8\n",
      "sum(global): 12\n",
      "global: 0\n"
     ]
    }
   ],
   "source": [
    "globe=0;   #globe variable\n",
    "def sum(a,b):\n",
    "    globe=a+b;\n",
    "    print(\"sum(global):\",globe)\n",
    "    return globe\n",
    "    \n",
    "a=int(input())\n",
    "b=int(input())\n",
    "sum(a,b)\n",
    "print(\"global:\",globe)"
   ]
  },
  {
   "cell_type": "code",
   "execution_count": null,
   "id": "e1f6d5cb",
   "metadata": {},
   "outputs": [],
   "source": []
  }
 ],
 "metadata": {
  "kernelspec": {
   "display_name": "Python 3 (ipykernel)",
   "language": "python",
   "name": "python3"
  },
  "language_info": {
   "codemirror_mode": {
    "name": "ipython",
    "version": 3
   },
   "file_extension": ".py",
   "mimetype": "text/x-python",
   "name": "python",
   "nbconvert_exporter": "python",
   "pygments_lexer": "ipython3",
   "version": "3.9.13"
  }
 },
 "nbformat": 4,
 "nbformat_minor": 5
}
