{
 "cells": [
  {
   "cell_type": "code",
   "execution_count": null,
   "id": "09936d16",
   "metadata": {},
   "outputs": [],
   "source": [
    "import seaborn as sns\n",
    "sns.catplot(\n",
    "    x='generation', \n",
    "    data=pokedex, \n",
    "    kind='count'\n",
    ").set_axis_labels('Generation', '# of Pokemon');\n",
    "sns.catplot(\n",
    "    x='generation',\n",
    "    data=pokedex,\n",
    "    col='type 1',\n",
    "    kind='count',\n",
    "    col_wrap=3\n",
    ").set_axis_labels('Generation', '# of Pokemon');"
   ]
  }
 ],
 "metadata": {
  "kernelspec": {
   "display_name": "Python 3 (ipykernel)",
   "language": "python",
   "name": "python3"
  },
  "language_info": {
   "codemirror_mode": {
    "name": "ipython",
    "version": 3
   },
   "file_extension": ".py",
   "mimetype": "text/x-python",
   "name": "python",
   "nbconvert_exporter": "python",
   "pygments_lexer": "ipython3",
   "version": "3.9.13"
  }
 },
 "nbformat": 4,
 "nbformat_minor": 5
}
