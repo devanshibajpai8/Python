{
 "cells": [
  {
   "cell_type": "code",
   "execution_count": 6,
   "id": "8dc4613d",
   "metadata": {},
   "outputs": [],
   "source": [
    "from sklearn import datasets"
   ]
  },
  {
   "cell_type": "code",
   "execution_count": 13,
   "id": "dc83d024",
   "metadata": {},
   "outputs": [
    {
     "name": "stdout",
     "output_type": "stream",
     "text": [
      "<class 'sklearn.utils.Bunch'>\n"
     ]
    },
    {
     "data": {
      "text/plain": [
       "(506, 13)"
      ]
     },
     "execution_count": 13,
     "metadata": {},
     "output_type": "execute_result"
    }
   ],
   "source": [
    "da=datasets.load_boston()\n",
    "print(type(da))\n",
    "x=da.data\n",
    "y=da.target\n",
    "x.shape"
   ]
  },
  {
   "cell_type": "code",
   "execution_count": 21,
   "id": "fef417ab",
   "metadata": {},
   "outputs": [
    {
     "name": "stdout",
     "output_type": "stream",
     "text": [
      "['CRIM' 'ZN' 'INDUS' 'CHAS' 'NOX' 'RM' 'AGE' 'DIS' 'RAD' 'TAX' 'PTRATIO'\n",
      " 'B' 'LSTAT']\n"
     ]
    },
    {
     "data": {
      "text/plain": [
       "(506, 14)"
      ]
     },
     "execution_count": 21,
     "metadata": {},
     "output_type": "execute_result"
    }
   ],
   "source": [
    "import pandas as pd\n",
    "df=pd.DataFrame(x)\n",
    "print(da.feature_names)\n",
    "df.columns=da.feature_names\n",
    "df[\"dis^2\"]=df.DIS**2\n",
    "x2=df.values\n",
    "df.describe()\n",
    "x2.shape"
   ]
  },
  {
   "cell_type": "code",
   "execution_count": 19,
   "id": "c81ae436",
   "metadata": {},
   "outputs": [
    {
     "name": "stdout",
     "output_type": "stream",
     "text": [
      "(379, 13)\n",
      "(127, 13)\n",
      "(379,)\n",
      "(127,)\n",
      "(379, 14)\n",
      "(127, 14)\n"
     ]
    }
   ],
   "source": [
    "#trainig algo\n",
    "from sklearn import model_selection\n",
    "model_selection.train_test_split(x,y)\n",
    "x_train,x_test,y_train,y_test=model_selection.train_test_split(x,y,random_state=0)\n",
    "x2_train,x2_test,y2_train,y2_test=model_selection.train_test_split(x2,y,random_state=0)\n",
    "print(x_train.shape)\n",
    "print(x_test.shape)\n",
    "print(y_train.shape)\n",
    "print(y_test.shape)\n",
    "\n",
    "print(x2_train.shape)\n",
    "print(x2_test.shape)"
   ]
  },
  {
   "cell_type": "code",
   "execution_count": 24,
   "id": "93c8681a",
   "metadata": {},
   "outputs": [],
   "source": [
    "from sklearn.linear_model import LinearRegression\n",
    "alg=LinearRegression()\n",
    "alg1=LinearRegression()\n",
    "alg.fit(x_train,y_train)\n",
    "alg1.fit(x2_train,y2_train)\n",
    "y_pred=alg.predict(x_test)"
   ]
  },
  {
   "cell_type": "code",
   "execution_count": 26,
   "id": "f3a32f31",
   "metadata": {},
   "outputs": [
    {
     "name": "stdout",
     "output_type": "stream",
     "text": [
      "train score: 0.7697699488741149\n",
      "test score: 0.6354638433202144\n",
      "train2 score: 0.7784818359849055\n",
      "test2 score: 0.6644389499997563\n"
     ]
    }
   ],
   "source": []
  },
  {
   "cell_type": "code",
   "execution_count": 35,
   "id": "84151804",
   "metadata": {},
   "outputs": [
    {
     "data": {
      "image/png": "[encoded data removed]",
      "text/plain": [
       "<Figure size 640x480 with 1 Axes>"
      ]
     },
     "metadata": {},
     "output_type": "display_data"
    }
   ],
   "source": [
    "import matplotlib.pyplot as plt\n",
    "y_pred=alg.predict(x_test)\n",
    "plt.scatter(y_pred,y_test)\n",
    "plt.show()"
   ]
  },
  {
   "cell_type": "code",
   "execution_count": 3,
   "id": "4ef95566",
   "metadata": {},
   "outputs": [
    {
     "data": {
      "text/plain": [
       "(100, 2)"
      ]
     },
     "execution_count": 3,
     "metadata": {},
     "output_type": "execute_result"
    }
   ],
   "source": [
    "import numpy as np\n",
    "data = np.loadtxt(\"https://files.codingninjas.in/data-6984.csv\", delimiter = \",\")\n",
    "data.shape\n"
   ]
  },
  {
   "cell_type": "code",
   "execution_count": 4,
   "id": "36cce03f",
   "metadata": {},
   "outputs": [
    {
     "data": {
      "text/plain": [
       "(100,)"
      ]
     },
     "execution_count": 4,
     "metadata": {},
     "output_type": "execute_result"
    }
   ],
   "source": [
    "x=data[:,0].reshape(-1,1)\n",
    "y=data[:,1]\n",
    "x.shape"
   ]
  },
  {
   "cell_type": "code",
   "execution_count": 84,
   "id": "c0e03fb5",
   "metadata": {},
   "outputs": [],
   "source": [
    "from sklearn import model_selection\n",
    "x_train,x_test,y_train,y_test=model_selection.train_test_split(x,y)"
   ]
  },
  {
   "cell_type": "code",
   "execution_count": 85,
   "id": "9f0a7a72",
   "metadata": {},
   "outputs": [
    {
     "data": {
      "text/plain": [
       "LinearRegression()"
      ]
     },
     "execution_count": 85,
     "metadata": {},
     "output_type": "execute_result"
    }
   ],
   "source": [
    "from sklearn.linear_model import LinearRegression\n",
    "alg1=LinearRegression()\n",
    "alg1.fit(x_train,y_train)"
   ]
  },
  {
   "cell_type": "code",
   "execution_count": 86,
   "id": "41ddec9d",
   "metadata": {},
   "outputs": [
    {
     "data": {
      "text/plain": [
       "array([1.29189254])"
      ]
     },
     "execution_count": 86,
     "metadata": {},
     "output_type": "execute_result"
    }
   ],
   "source": [
    "alg1.coef_"
   ]
  },
  {
   "cell_type": "code",
   "execution_count": 87,
   "id": "6830f78a",
   "metadata": {},
   "outputs": [
    {
     "data": {
      "text/plain": [
       "9.061664935053074"
      ]
     },
     "execution_count": 87,
     "metadata": {},
     "output_type": "execute_result"
    }
   ],
   "source": [
    "alg1.intercept_\n"
   ]
  },
  {
   "cell_type": "code",
   "execution_count": 94,
   "id": "c99c015d",
   "metadata": {},
   "outputs": [
    {
     "data": {
      "image/png": "[encoded data removed]",
      "text/plain": [
       "<Figure size 640x480 with 1 Axes>"
      ]
     },
     "metadata": {},
     "output_type": "display_data"
    }
   ],
   "source": [
    "import matplotlib.pyplot as plt\n",
    "m=alg1.coef_\n",
    "c=alg1.intercept_\n",
    "x_line=np.arange(25,70,0.3)\n",
    "y_line=m*x_line+c\n",
    "plt.plot(x_line,y_line,\"y\")\n",
    "plt.scatter(x_train,y_train)\n",
    "plt.show()"
   ]
  },
  {
   "cell_type": "code",
   "execution_count": 92,
   "id": "9939d5f6",
   "metadata": {},
   "outputs": [
    {
     "data": {
      "image/png": "[encoded data removed]",
      "text/plain": [
       "<Figure size 640x480 with 1 Axes>"
      ]
     },
     "metadata": {},
     "output_type": "display_data"
    }
   ],
   "source": [
    "import matplotlib.pyplot as plt\n",
    "m=alg1.coef_\n",
    "c=alg1.intercept_\n",
    "x_line=np.arange(25,70,0.3)\n",
    "y_line=m*x_line+c\n",
    "plt.plot(x_line,y_line,\"r\")\n",
    "plt.scatter(x_test,y_test)\n",
    "plt.show()"
   ]
  },
  {
   "cell_type": "code",
   "execution_count": 114,
   "id": "2d7e2f18",
   "metadata": {},
   "outputs": [
    {
     "data": {
      "text/plain": [
       "(100,)"
      ]
     },
     "execution_count": 114,
     "metadata": {},
     "output_type": "execute_result"
    }
   ],
   "source": [
    "import numpy as np\n",
    "data = np.loadtxt(\"https://files.codingninjas.in/data-6984.csv\", delimiter = \",\")\n",
    "x=data[:,0]\n",
    "y=data[:,1]\n",
    "x.shape"
   ]
  },
  {
   "cell_type": "code",
   "execution_count": 112,
   "id": "e9b12576",
   "metadata": {},
   "outputs": [
    {
     "data": {
      "text/plain": [
       "(70,)"
      ]
     },
     "execution_count": 112,
     "metadata": {},
     "output_type": "execute_result"
    }
   ],
   "source": [
    "from sklearn import model_selection\n",
    "x_train,x_test,y_train,y_test=model_selection.train_test_split(x,y,test_size=0.3)\n",
    "x_train.shape"
   ]
  },
  {
   "cell_type": "code",
   "execution_count": 115,
   "id": "4f266fba",
   "metadata": {},
   "outputs": [],
   "source": [
    "def fit(x_train,y_train):\n",
    "    n=(x_train*y_train).mean()-x_train.mean()*y_train.mean()\n",
    "    d=(x_train**2).mean()-x_train.mean()**2\n",
    "    m=n/d\n",
    "    c=y_train.mean()-m*x_train.mean()\n",
    "    return m,c"
   ]
  },
  {
   "cell_type": "code",
   "execution_count": 119,
   "id": "6f93cc34",
   "metadata": {},
   "outputs": [],
   "source": [
    "def predict(x,m,c):\n",
    "    return m*x+c"
   ]
  },
  {
   "cell_type": "code",
   "execution_count": 120,
   "id": "85dccee8",
   "metadata": {},
   "outputs": [],
   "source": [
    "def score(y_truth,y_pred):\n",
    "    u=((y_truth-y_pred)**2).sum()\n",
    "    v=((y_truth-y_truth.mean())**2).sum()\n",
    "    return 1-u/v"
   ]
  },
  {
   "cell_type": "code",
   "execution_count": 122,
   "id": "6f0cd166",
   "metadata": {},
   "outputs": [],
   "source": [
    "def cost(x,y,m,c):\n",
    "    return ((y-m*x-c)**2).mean()"
   ]
  },
  {
   "cell_type": "code",
   "execution_count": 123,
   "id": "30c0d4e9",
   "metadata": {},
   "outputs": [
    {
     "name": "stdout",
     "output_type": "stream",
     "text": [
      "test score: 0.5198835688191601\n",
      "train score: 0.6214107009628138\n",
      "M,C: 1.3198504351172038 8.055601105618763\n",
      "cost on trainig data: 107.40079094403477\n"
     ]
    }
   ],
   "source": [
    "m,c=fit(x_train,y_train)\n",
    "#test data\n",
    "y_test_pred=predict(x_test,m,c)\n",
    "print(\"test score:\",score(y_test,y_test_pred))\n",
    "\n",
    "#train data\n",
    "y_train_pred=predict(x_train,m,c)\n",
    "print(\"train score:\",score(y_train,y_train_pred))\n",
    "print(\"M,C:\",m,c)\n",
    "print(\"cost on trainig data:\",cost(x_train,y_train,m,c))"
   ]
  },
  {
   "cell_type": "code",
   "execution_count": null,
   "id": "f0dd02a2",
   "metadata": {},
   "outputs": [],
   "source": [
    "#adding features"
   ]
  },
  {
   "cell_type": "code",
   "execution_count": null,
   "id": "b3d8b66a",
   "metadata": {},
   "outputs": [],
   "source": [
    "train_score=alg.score(x_train,y_train)\n",
    "test_score=alg.score(x_test,y_test)\n",
    "print(\"train score:\",train_score)\n",
    "print(\"test score:\",test_score)\n",
    "\n",
    "train_score=alg1.score(x2_train,y2_train)\n",
    "test_score=alg1.score(x2_test,y2_test)\n",
    "print(\"train2 score:\",train_score)\n",
    "print(\"test2 score:\",test_score)"
   ]
  },
  {
   "cell_type": "code",
   "execution_count": null,
   "id": "238753ec",
   "metadata": {},
   "outputs": [],
   "source": [
    " #gradient descent"
   ]
  },
  {
   "cell_type": "code",
   "execution_count": 27,
   "id": "2598c90c",
   "metadata": {},
   "outputs": [
    {
     "data": {
      "text/plain": [
       "(100, 2)"
      ]
     },
     "execution_count": 27,
     "metadata": {},
     "output_type": "execute_result"
    }
   ],
   "source": [
    "import numpy as np\n",
    "data = np.loadtxt(\"https://files.codingninjas.in/data-6984.csv\", delimiter = \",\")\n",
    "data.shape\n"
   ]
  },
  {
   "cell_type": "code",
   "execution_count": 36,
   "id": "7f4cc317",
   "metadata": {},
   "outputs": [],
   "source": [
    "def step(data,alpha,m,c):\n",
    "    m_slope=0\n",
    "    c_slope=0\n",
    "    N=len(data)\n",
    "    for i in range(N):\n",
    "        x=data[i,0]\n",
    "        y=data[i,1]\n",
    "        m_slope += (-2/N)*(y-m*x-c)*x\n",
    "        c_slope += (-2/N)*(y-m*x-c)\n",
    "    new_m=m-alpha*m_slope\n",
    "    new_c=m-alpha*c_slope\n",
    "    return new_m,new_c\n",
    "    "
   ]
  },
  {
   "cell_type": "code",
   "execution_count": 37,
   "id": "cfd3c2a3",
   "metadata": {},
   "outputs": [],
   "source": [
    "def gradient(data,alpha,iteration):\n",
    "    m=0\n",
    "    c=0\n",
    "    for i in range(iteration):\n",
    "        m,c=step(data,alpha,m,c)\n",
    "        print(i,\"cost:\",cost(data,m,c))\n",
    "    return m,c\n",
    "    "
   ]
  },
  {
   "cell_type": "code",
   "execution_count": 41,
   "id": "62641364",
   "metadata": {},
   "outputs": [],
   "source": [
    "def cost(data,m,c):\n",
    "    total=0\n",
    "    N=len(data)\n",
    "    for i in range(N):\n",
    "        x=data[i,0]\n",
    "        y=data[i,1]\n",
    "        total+=(1/N)*((y-m*x-c)**2)\n",
    "        return total"
   ]
  },
  {
   "cell_type": "code",
   "execution_count": 46,
   "id": "d8d67760",
   "metadata": {},
   "outputs": [],
   "source": [
    "def run():\n",
    "    data=np.loadtxt(\"https://files.codingninjas.in/data-6984.csv\", delimiter = \",\")\n",
    "    alpha=0.0001\n",
    "    iteration=100\n",
    "    m,c=gradient(data,alpha,iteration)\n",
    "    print(m,c)"
   ]
  },
  {
   "cell_type": "code",
   "execution_count": 47,
   "id": "32edd01c",
   "metadata": {},
   "outputs": [
    {
     "name": "stdout",
     "output_type": "stream",
     "text": [
      "0 cost: 0.5984485345718256\n",
      "1 cost: 0.25108511528992616\n",
      "2 cost: 1.2487421165337997\n",
      "3 cost: 2.0005978054706444\n",
      "4 cost: 2.425696076167101\n",
      "5 cost: 2.6450633449190057\n",
      "6 cost: 2.754117949733128\n",
      "7 cost: 2.8074343020407713\n",
      "8 cost: 2.833298512988808\n",
      "9 cost: 2.8457992962368097\n",
      "10 cost: 2.8518305843221006\n",
      "11 cost: 2.8547380575795445\n",
      "12 cost: 2.8561390791714896\n",
      "13 cost: 2.8568140561436213\n",
      "14 cost: 2.857139212442559\n",
      "15 cost: 2.857295842707831\n",
      "16 cost: 2.8573712910506925\n",
      "17 cost: 2.8574076339153236\n",
      "18 cost: 2.8574251398944286\n",
      "19 cost: 2.8574335723215114\n",
      "20 cost: 2.857437634119056\n",
      "21 cost: 2.85743959063641\n",
      "22 cost: 2.857440533066224\n",
      "23 cost: 2.8574409870227595\n",
      "24 cost: 2.857441205687873\n",
      "25 cost: 2.857441311016088\n",
      "26 cost: 2.857441361751352\n",
      "27 cost: 2.857441386189884\n",
      "28 cost: 2.857441397961616\n",
      "29 cost: 2.8574414036319093\n",
      "30 cost: 2.857441406363218\n",
      "31 cost: 2.8574414076788544\n",
      "32 cost: 2.8574414083125808\n",
      "33 cost: 2.8574414086178375\n",
      "34 cost: 2.8574414087648785\n",
      "35 cost: 2.8574414088357027\n",
      "36 cost: 2.8574414088698195\n",
      "37 cost: 2.857441408886253\n",
      "38 cost: 2.8574414088941684\n",
      "39 cost: 2.857441408897981\n",
      "40 cost: 2.857441408899817\n",
      "41 cost: 2.8574414089007036\n",
      "42 cost: 2.8574414089011277\n",
      "43 cost: 2.857441408901334\n",
      "44 cost: 2.857441408901431\n",
      "45 cost: 2.857441408901483\n",
      "46 cost: 2.8574414089015057\n",
      "47 cost: 2.8574414089015154\n",
      "48 cost: 2.8574414089015203\n",
      "49 cost: 2.857441408901524\n",
      "50 cost: 2.857441408901526\n",
      "51 cost: 2.857441408901526\n",
      "52 cost: 2.857441408901526\n",
      "53 cost: 2.857441408901526\n",
      "54 cost: 2.857441408901526\n",
      "55 cost: 2.857441408901526\n",
      "56 cost: 2.857441408901526\n",
      "57 cost: 2.857441408901526\n",
      "58 cost: 2.857441408901526\n",
      "59 cost: 2.857441408901526\n",
      "60 cost: 2.857441408901526\n",
      "61 cost: 2.857441408901526\n",
      "62 cost: 2.857441408901526\n",
      "63 cost: 2.857441408901526\n",
      "64 cost: 2.857441408901526\n",
      "65 cost: 2.857441408901526\n",
      "66 cost: 2.857441408901526\n",
      "67 cost: 2.857441408901526\n",
      "68 cost: 2.857441408901526\n",
      "69 cost: 2.857441408901526\n",
      "70 cost: 2.857441408901526\n",
      "71 cost: 2.857441408901526\n",
      "72 cost: 2.857441408901526\n",
      "73 cost: 2.857441408901526\n",
      "74 cost: 2.857441408901526\n",
      "75 cost: 2.857441408901526\n",
      "76 cost: 2.857441408901526\n",
      "77 cost: 2.857441408901526\n",
      "78 cost: 2.857441408901526\n",
      "79 cost: 2.857441408901526\n",
      "80 cost: 2.857441408901526\n",
      "81 cost: 2.857441408901526\n",
      "82 cost: 2.857441408901526\n",
      "83 cost: 2.857441408901526\n",
      "84 cost: 2.857441408901526\n",
      "85 cost: 2.857441408901526\n",
      "86 cost: 2.857441408901526\n",
      "87 cost: 2.857441408901526\n",
      "88 cost: 2.857441408901526\n",
      "89 cost: 2.857441408901526\n",
      "90 cost: 2.857441408901526\n",
      "91 cost: 2.857441408901526\n",
      "92 cost: 2.857441408901526\n",
      "93 cost: 2.857441408901526\n",
      "94 cost: 2.857441408901526\n",
      "95 cost: 2.857441408901526\n",
      "96 cost: 2.857441408901526\n",
      "97 cost: 2.857441408901526\n",
      "98 cost: 2.857441408901526\n",
      "99 cost: 2.857441408901526\n",
      "1.450970798426195 1.4510201797409639\n"
     ]
    }
   ],
   "source": [
    "run()"
   ]
  }
 ],
 "metadata": {
  "kernelspec": {
   "display_name": "Python 3 (ipykernel)",
   "language": "python",
   "name": "python3"
  },
  "language_info": {
   "codemirror_mode": {
    "name": "ipython",
    "version": 3
   },
   "file_extension": ".py",
   "mimetype": "text/x-python",
   "name": "python",
   "nbconvert_exporter": "python",
   "pygments_lexer": "ipython3",
   "version": "3.9.13"
  }
 },
 "nbformat": 4,
 "nbformat_minor": 5
}
